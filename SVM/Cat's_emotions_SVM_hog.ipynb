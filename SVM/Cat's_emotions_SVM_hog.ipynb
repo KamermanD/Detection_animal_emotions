{
 "cells": [
  {
   "cell_type": "code",
   "execution_count": 1,
   "metadata": {},
   "outputs": [],
   "source": [
    "import numpy as np\n",
    "import os\n",
    "from matplotlib import pyplot as plt\n",
    "from skimage import color\n",
    "from skimage.feature import hog\n",
    "from sklearn import svm\n",
    "from sklearn.metrics import classification_report,accuracy_score\n",
    "import PIL\n",
    "import matplotlib.pyplot as plt"
   ]
  },
  {
   "cell_type": "code",
   "execution_count": 2,
   "metadata": {},
   "outputs": [],
   "source": [
    "class EmotionDataset:\n",
    "    def __init__(self, parent_folder: str, mode: str = 'train', shuffle=True):\n",
    "        self.parent_folder = parent_folder\n",
    "        self.data = []\n",
    "        self.mode = mode\n",
    "        self.labels={'angry':0, 'disgusted':1, 'scared':2, 'happy':3, 'normal':4, 'sad':5, 'surprised':6}\n",
    "    \n",
    "        subset = self.mode\n",
    "        subset_path = os.path.join(parent_folder, subset)\n",
    "        for emotion in os.listdir(subset_path):\n",
    "            emotion_path = os.path.join(subset_path, emotion)\n",
    "            if os.path.isdir(emotion_path):\n",
    "                for file_name in os.listdir(emotion_path):\n",
    "                    file_path = os.path.join(emotion_path, file_name)\n",
    "                    if os.path.isfile(file_path):\n",
    "                        image = PIL.Image.open(file_path)\n",
    "                        self.data.append((image, self.labels[emotion.lower()]))\n",
    "        \n",
    "        if shuffle:\n",
    "            np.random.shuffle(self.data)\n",
    "\n",
    "    def __getitem__(self, index: int):\n",
    "        image, label = self.data[index]\n",
    "        fd, _ = hog(\n",
    "                        image,\n",
    "                        orientations=8,\n",
    "                        pixels_per_cell=(32, 32),\n",
    "                        cells_per_block=(8, 8),\n",
    "                        visualize=True,\n",
    "                        channel_axis=-1,\n",
    "                    )\n",
    "        return  fd, label\n",
    "\n",
    "    def __len__(self) -> int:\n",
    "        return len(self.data)"
   ]
  },
  {
   "cell_type": "code",
   "execution_count": 3,
   "metadata": {},
   "outputs": [],
   "source": [
    "train_dataset = EmotionDataset('Master folder')\n",
    "valid_dataset = EmotionDataset('Master folder', 'valid')"
   ]
  },
  {
   "cell_type": "code",
   "execution_count": 4,
   "metadata": {},
   "outputs": [],
   "source": [
    "def dataset_creation(dataset: EmotionDataset):\n",
    "    X, y = [], []\n",
    "    for image, label in dataset:\n",
    "        X.append(image)\n",
    "        y.append(label)\n",
    "    return np.array(X), np.array(y)"
   ]
  },
  {
   "cell_type": "code",
   "execution_count": 5,
   "metadata": {},
   "outputs": [],
   "source": [
    "train_x, train_y = dataset_creation(train_dataset)\n",
    "val_X, val_y = dataset_creation(valid_dataset)"
   ]
  },
  {
   "cell_type": "code",
   "execution_count": 6,
   "metadata": {},
   "outputs": [
    {
     "name": "stdout",
     "output_type": "stream",
     "text": [
      "0.28402366863905326\n"
     ]
    }
   ],
   "source": [
    "clf = svm.SVC()\n",
    "clf.fit(train_x, train_y)\n",
    "print(accuracy_score(val_y, clf.predict(val_X)))"
   ]
  },
  {
   "cell_type": "code",
   "execution_count": null,
   "metadata": {},
   "outputs": [],
   "source": []
  }
 ],
 "metadata": {
  "kernelspec": {
   "display_name": "Python 3",
   "language": "python",
   "name": "python3"
  },
  "language_info": {
   "codemirror_mode": {
    "name": "ipython",
    "version": 3
   },
   "file_extension": ".py",
   "mimetype": "text/x-python",
   "name": "python",
   "nbconvert_exporter": "python",
   "pygments_lexer": "ipython3",
   "version": "3.10.0"
  }
 },
 "nbformat": 4,
 "nbformat_minor": 2
}
