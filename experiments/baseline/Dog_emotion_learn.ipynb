{
  "nbformat": 4,
  "nbformat_minor": 0,
  "metadata": {
    "colab": {
      "provenance": [],
      "gpuType": "V28",
      "machine_shape": "hm"
    },
    "kernelspec": {
      "name": "python3",
      "display_name": "Python 3"
    },
    "language_info": {
      "name": "python"
    },
    "accelerator": "TPU"
  },
  "cells": [
    {
      "cell_type": "markdown",
      "source": [],
      "metadata": {
        "id": "3qmgm5FtsqG9"
      }
    },
    {
      "cell_type": "code",
      "source": [
        "import pandas as pd\n",
        "import os\n",
        "import tensorflow as tf\n",
        "from skimage.transform import resize\n",
        "from skimage.io import imread\n",
        "import numpy as np\n",
        "import matplotlib.pyplot as plt\n",
        "from sklearn import svm\n",
        "from sklearn.model_selection import GridSearchCV\n",
        "from sklearn.model_selection import train_test_split\n",
        "from sklearn.metrics import accuracy_score\n",
        "from sklearn.metrics import classification_report"
      ],
      "metadata": {
        "id": "n9PUlfYwbh3F"
      },
      "execution_count": null,
      "outputs": []
    },
    {
      "cell_type": "markdown",
      "source": [],
      "metadata": {
        "id": "Pjjkuh25UzbV"
      }
    },
    {
      "cell_type": "code",
      "source": [
        "from google.colab import drive\n",
        "drive.mount('/content/drive')"
      ],
      "metadata": {
        "colab": {
          "base_uri": "https://localhost:8080/"
        },
        "id": "pa6KDgaMTPo-",
        "outputId": "1f44e4d5-1d67-4dfb-d481-9190a2d68a2b"
      },
      "execution_count": null,
      "outputs": [
        {
          "output_type": "stream",
          "name": "stdout",
          "text": [
            "Mounted at /content/drive\n"
          ]
        }
      ]
    },
    {
      "cell_type": "code",
      "source": [
        "list_classes =  os.listdir('/content/drive/MyDrive/Dog_Emotion_1')\n",
        "flat_data_arr=[]\n",
        "target_arr=[]\n",
        "datadir='/content/drive/MyDrive/Dog_Emotion_1'\n",
        "for i in list_classes:\n",
        "    print(f'loading class: {i}')\n",
        "    path=os.path.join(datadir,i)\n",
        "    for img in os.listdir(path):\n",
        "        img_array=imread(os.path.join(path,img))\n",
        "        img_resized=resize(img_array,(224,224,3))\n",
        "        flat_data_arr.append(img_resized.flatten())\n",
        "        target_arr.append(list_classes.index(i))\n",
        "    print(f'loaded class:{i} successfully')"
      ],
      "metadata": {
        "colab": {
          "base_uri": "https://localhost:8080/"
        },
        "id": "lR9VGs3LKKDk",
        "outputId": "c7589198-c99b-4d90-9596-07cc9b29fc6b"
      },
      "execution_count": null,
      "outputs": [
        {
          "output_type": "stream",
          "name": "stdout",
          "text": [
            "loading class: sad\n",
            "loaded class:sad successfully\n",
            "loading class: angry\n",
            "loaded class:angry successfully\n",
            "loading class: relaxed\n",
            "loaded class:relaxed successfully\n",
            "loading class: happy\n",
            "loaded class:happy successfully\n"
          ]
        }
      ]
    },
    {
      "cell_type": "code",
      "source": [
        "flat_data=np.array(flat_data_arr)\n",
        "target=np.array(target_arr)"
      ],
      "metadata": {
        "id": "k8sHqSwCaYsv"
      },
      "execution_count": null,
      "outputs": []
    },
    {
      "cell_type": "code",
      "source": [
        "flat_data.shape"
      ],
      "metadata": {
        "colab": {
          "base_uri": "https://localhost:8080/"
        },
        "id": "GVFd4TJCGZOZ",
        "outputId": "51ebcfec-8388-44ef-c7d3-826f16a4b423"
      },
      "execution_count": null,
      "outputs": [
        {
          "output_type": "execute_result",
          "data": {
            "text/plain": [
              "(4010, 150528)"
            ]
          },
          "metadata": {},
          "execution_count": 6
        }
      ]
    },
    {
      "cell_type": "code",
      "source": [
        "df=pd.DataFrame(flat_data)\n",
        "df['Target']=target\n",
        "df.shape"
      ],
      "metadata": {
        "id": "Wpk5IpIYpl4G",
        "colab": {
          "base_uri": "https://localhost:8080/"
        },
        "outputId": "0159bebc-97ea-4dc1-f70c-4fb067ff6294"
      },
      "execution_count": null,
      "outputs": [
        {
          "output_type": "execute_result",
          "data": {
            "text/plain": [
              "(4010, 150529)"
            ]
          },
          "metadata": {},
          "execution_count": 7
        }
      ]
    },
    {
      "cell_type": "code",
      "source": [
        "x=df.iloc[:,:-1]\n",
        "y=df.iloc[:,-1]"
      ],
      "metadata": {
        "id": "NJxGr2n5LLDv"
      },
      "execution_count": null,
      "outputs": []
    },
    {
      "cell_type": "code",
      "source": [
        "x_train,x_test,y_train,y_test=train_test_split(x,y,test_size=0.20,\n",
        "                                               random_state=77,\n",
        "                                               stratify=y)"
      ],
      "metadata": {
        "id": "jK-1IEr2MoOi"
      },
      "execution_count": null,
      "outputs": []
    },
    {
      "cell_type": "code",
      "source": [
        "param_grid={'C':[1],\n",
        "            'gamma':[0.0001],\n",
        "            'kernel':['rbf']}\n"
      ],
      "metadata": {
        "id": "Jt43dP1NMtTu"
      },
      "execution_count": null,
      "outputs": []
    },
    {
      "cell_type": "code",
      "source": [
        "svc=svm.SVC(probability=False)"
      ],
      "metadata": {
        "id": "WTY649-WMxRE"
      },
      "execution_count": null,
      "outputs": []
    },
    {
      "cell_type": "code",
      "source": [
        "model=GridSearchCV(svc,param_grid)\n",
        "model.fit(x_train, y_train)\n",
        "y_pred = model.predict(x_test)\n",
        "accuracy = accuracy_score(y_pred, y_test)"
      ],
      "metadata": {
        "id": "Gs7KDtmgM0WN"
      },
      "execution_count": null,
      "outputs": []
    },
    {
      "cell_type": "code",
      "source": [
        "accuracy"
      ],
      "metadata": {
        "id": "_-YXGyPW6OrA",
        "colab": {
          "base_uri": "https://localhost:8080/"
        },
        "outputId": "026c82d1-ccfe-4a10-81d0-de6a706f2eb5"
      },
      "execution_count": null,
      "outputs": [
        {
          "output_type": "execute_result",
          "data": {
            "text/plain": [
              "0.415211970074813"
            ]
          },
          "metadata": {},
          "execution_count": 13
        }
      ]
    }
  ]
}