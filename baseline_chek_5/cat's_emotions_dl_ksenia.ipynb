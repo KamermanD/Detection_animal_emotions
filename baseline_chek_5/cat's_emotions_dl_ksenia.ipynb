{
  "cells": [
    {
      "cell_type": "code",
      "execution_count": 1,
      "metadata": {
        "colab": {
          "base_uri": "https://localhost:8080/"
        },
        "id": "9WcN6Zwc6dZf",
        "outputId": "f263604c-31a2-4f0c-cf41-4a1c8e0806f2"
      },
      "outputs": [
        {
          "name": "stdout",
          "output_type": "stream",
          "text": [
            "Mounted at /content/drive\n"
          ]
        }
      ],
      "source": [
        "from google.colab import drive\n",
        "drive.mount('/content/drive')"
      ]
    },
    {
      "cell_type": "code",
      "execution_count": 2,
      "metadata": {
        "id": "UQ1uULbE6_MB"
      },
      "outputs": [],
      "source": [
        "dataset_dir = '/content/drive/MyDrive/datasets/Cat Emotions.v1-test.folder/Master folder'"
      ]
    },
    {
      "cell_type": "code",
      "execution_count": 3,
      "metadata": {
        "id": "I-U6P3lh53Rb"
      },
      "outputs": [],
      "source": [
        "import os\n",
        "from PIL import Image\n",
        "import torch\n",
        "import torchvision\n",
        "import numpy as np\n",
        "import albumentations\n",
        "from tqdm import tqdm"
      ]
    },
    {
      "cell_type": "code",
      "execution_count": 4,
      "metadata": {
        "id": "5ztA2faw53Rh"
      },
      "outputs": [],
      "source": [
        "configs = {\n",
        "    \"train_batch_size\": 64,\n",
        "    \"valid_batch_size\": 1,\n",
        "    \"device\": torch.device(\"cuda:0\" if torch.cuda.is_available() else \"cpu\"),\n",
        "    \"lr\": 1e-4,\n",
        "    \"epochs\": 30,\n",
        "    \"train_augmentations\": albumentations.Compose([\n",
        "        albumentations.HorizontalFlip(),\n",
        "        albumentations.RandomCrop(480, 480, p=0.05),\n",
        "        albumentations.Resize(224, 224),\n",
        "        albumentations.Normalize()]),\n",
        "    \"valid_augmentations\": albumentations.Compose([\n",
        "        albumentations.Resize(224, 224),\n",
        "        albumentations.Normalize()])\n",
        "}"
      ]
    },
    {
      "cell_type": "code",
      "execution_count": 5,
      "metadata": {
        "id": "Imko5hyK53Ri"
      },
      "outputs": [],
      "source": [
        "class EmotionDataset:\n",
        "    def __init__(self, parent_folder: str, mode: str = 'train', shuffle=True, augmentations=None):\n",
        "        self.parent_folder = parent_folder\n",
        "        self.data = []\n",
        "        self.mode = mode\n",
        "        self.labels={'angry':0, 'disgusted':1, 'scared':2, 'happy':3, 'normal':4, 'sad':5, 'surprised':6}\n",
        "        self.augmentations = augmentations\n",
        "\n",
        "        subset = self.mode\n",
        "        subset_path = os.path.join(parent_folder, subset)\n",
        "        for emotion in os.listdir(subset_path):\n",
        "            emotion_path = os.path.join(subset_path, emotion)\n",
        "            if os.path.isdir(emotion_path):\n",
        "                for file_name in os.listdir(emotion_path):\n",
        "                    file_path = os.path.join(emotion_path, file_name)\n",
        "                    if os.path.isfile(file_path):\n",
        "                        image = Image.open(file_path)\n",
        "                        self.data.append((image, self.labels[emotion.lower()]))\n",
        "\n",
        "        if shuffle:\n",
        "            np.random.shuffle(self.data)\n",
        "\n",
        "    def __getitem__(self, index: int):\n",
        "        image, label = self.data[index]\n",
        "        image = np.array(image)\n",
        "        if self.augmentations:\n",
        "            image = self.augmentations(image=image)['image']\n",
        "        image = torch.tensor(image.transpose(2, 0, 1))\n",
        "        label_one_hot = np.zeros(len(self.labels))\n",
        "        label_one_hot[label] = 1\n",
        "        label_one_hot = torch.tensor(label_one_hot)\n",
        "\n",
        "\n",
        "        return  image.float(), label_one_hot.float()\n",
        "\n",
        "    def __len__(self) -> int:\n",
        "        return len(self.data)"
      ]
    },
    {
      "cell_type": "code",
      "execution_count": 6,
      "metadata": {
        "id": "GP2ulcpN53Rj"
      },
      "outputs": [],
      "source": [
        "train_dataset = EmotionDataset(dataset_dir, augmentations=configs[\"train_augmentations\"])\n",
        "valid_dataset = EmotionDataset(dataset_dir, 'valid', augmentations=configs[\"valid_augmentations\"])"
      ]
    },
    {
      "cell_type": "code",
      "execution_count": 7,
      "metadata": {
        "id": "zsc1WW8J53Rj"
      },
      "outputs": [],
      "source": [
        "train_dataloder = torch.utils.data.DataLoader(train_dataset, batch_size=configs[\"train_batch_size\"], shuffle=True)\n",
        "valid_dataloder = torch.utils.data.DataLoader(valid_dataset, batch_size=configs[\"valid_batch_size\"], shuffle=True)"
      ]
    },
    {
      "cell_type": "code",
      "execution_count": 8,
      "metadata": {
        "colab": {
          "base_uri": "https://localhost:8080/"
        },
        "id": "bx33xB0k53Rk",
        "outputId": "53c8880d-ef4e-47ae-c5fa-aa014b1ed272"
      },
      "outputs": [
        {
          "name": "stderr",
          "output_type": "stream",
          "text": [
            "/usr/local/lib/python3.11/dist-packages/torchvision/models/_utils.py:208: UserWarning: The parameter 'pretrained' is deprecated since 0.13 and may be removed in the future, please use 'weights' instead.\n",
            "  warnings.warn(\n",
            "/usr/local/lib/python3.11/dist-packages/torchvision/models/_utils.py:223: UserWarning: Arguments other than a weight enum or `None` for 'weights' are deprecated since 0.13 and may be removed in the future. The current behavior is equivalent to passing `weights=ResNet18_Weights.IMAGENET1K_V1`. You can also use `weights=ResNet18_Weights.DEFAULT` to get the most up-to-date weights.\n",
            "  warnings.warn(msg)\n",
            "Downloading: \"https://download.pytorch.org/models/resnet18-f37072fd.pth\" to /root/.cache/torch/hub/checkpoints/resnet18-f37072fd.pth\n",
            "100%|██████████| 44.7M/44.7M [00:00<00:00, 132MB/s]\n"
          ]
        },
        {
          "data": {
            "text/plain": [
              "ResNet(\n",
              "  (conv1): Conv2d(3, 64, kernel_size=(7, 7), stride=(2, 2), padding=(3, 3), bias=False)\n",
              "  (bn1): BatchNorm2d(64, eps=1e-05, momentum=0.1, affine=True, track_running_stats=True)\n",
              "  (relu): ReLU(inplace=True)\n",
              "  (maxpool): MaxPool2d(kernel_size=3, stride=2, padding=1, dilation=1, ceil_mode=False)\n",
              "  (layer1): Sequential(\n",
              "    (0): BasicBlock(\n",
              "      (conv1): Conv2d(64, 64, kernel_size=(3, 3), stride=(1, 1), padding=(1, 1), bias=False)\n",
              "      (bn1): BatchNorm2d(64, eps=1e-05, momentum=0.1, affine=True, track_running_stats=True)\n",
              "      (relu): ReLU(inplace=True)\n",
              "      (conv2): Conv2d(64, 64, kernel_size=(3, 3), stride=(1, 1), padding=(1, 1), bias=False)\n",
              "      (bn2): BatchNorm2d(64, eps=1e-05, momentum=0.1, affine=True, track_running_stats=True)\n",
              "    )\n",
              "    (1): BasicBlock(\n",
              "      (conv1): Conv2d(64, 64, kernel_size=(3, 3), stride=(1, 1), padding=(1, 1), bias=False)\n",
              "      (bn1): BatchNorm2d(64, eps=1e-05, momentum=0.1, affine=True, track_running_stats=True)\n",
              "      (relu): ReLU(inplace=True)\n",
              "      (conv2): Conv2d(64, 64, kernel_size=(3, 3), stride=(1, 1), padding=(1, 1), bias=False)\n",
              "      (bn2): BatchNorm2d(64, eps=1e-05, momentum=0.1, affine=True, track_running_stats=True)\n",
              "    )\n",
              "  )\n",
              "  (layer2): Sequential(\n",
              "    (0): BasicBlock(\n",
              "      (conv1): Conv2d(64, 128, kernel_size=(3, 3), stride=(2, 2), padding=(1, 1), bias=False)\n",
              "      (bn1): BatchNorm2d(128, eps=1e-05, momentum=0.1, affine=True, track_running_stats=True)\n",
              "      (relu): ReLU(inplace=True)\n",
              "      (conv2): Conv2d(128, 128, kernel_size=(3, 3), stride=(1, 1), padding=(1, 1), bias=False)\n",
              "      (bn2): BatchNorm2d(128, eps=1e-05, momentum=0.1, affine=True, track_running_stats=True)\n",
              "      (downsample): Sequential(\n",
              "        (0): Conv2d(64, 128, kernel_size=(1, 1), stride=(2, 2), bias=False)\n",
              "        (1): BatchNorm2d(128, eps=1e-05, momentum=0.1, affine=True, track_running_stats=True)\n",
              "      )\n",
              "    )\n",
              "    (1): BasicBlock(\n",
              "      (conv1): Conv2d(128, 128, kernel_size=(3, 3), stride=(1, 1), padding=(1, 1), bias=False)\n",
              "      (bn1): BatchNorm2d(128, eps=1e-05, momentum=0.1, affine=True, track_running_stats=True)\n",
              "      (relu): ReLU(inplace=True)\n",
              "      (conv2): Conv2d(128, 128, kernel_size=(3, 3), stride=(1, 1), padding=(1, 1), bias=False)\n",
              "      (bn2): BatchNorm2d(128, eps=1e-05, momentum=0.1, affine=True, track_running_stats=True)\n",
              "    )\n",
              "  )\n",
              "  (layer3): Sequential(\n",
              "    (0): BasicBlock(\n",
              "      (conv1): Conv2d(128, 256, kernel_size=(3, 3), stride=(2, 2), padding=(1, 1), bias=False)\n",
              "      (bn1): BatchNorm2d(256, eps=1e-05, momentum=0.1, affine=True, track_running_stats=True)\n",
              "      (relu): ReLU(inplace=True)\n",
              "      (conv2): Conv2d(256, 256, kernel_size=(3, 3), stride=(1, 1), padding=(1, 1), bias=False)\n",
              "      (bn2): BatchNorm2d(256, eps=1e-05, momentum=0.1, affine=True, track_running_stats=True)\n",
              "      (downsample): Sequential(\n",
              "        (0): Conv2d(128, 256, kernel_size=(1, 1), stride=(2, 2), bias=False)\n",
              "        (1): BatchNorm2d(256, eps=1e-05, momentum=0.1, affine=True, track_running_stats=True)\n",
              "      )\n",
              "    )\n",
              "    (1): BasicBlock(\n",
              "      (conv1): Conv2d(256, 256, kernel_size=(3, 3), stride=(1, 1), padding=(1, 1), bias=False)\n",
              "      (bn1): BatchNorm2d(256, eps=1e-05, momentum=0.1, affine=True, track_running_stats=True)\n",
              "      (relu): ReLU(inplace=True)\n",
              "      (conv2): Conv2d(256, 256, kernel_size=(3, 3), stride=(1, 1), padding=(1, 1), bias=False)\n",
              "      (bn2): BatchNorm2d(256, eps=1e-05, momentum=0.1, affine=True, track_running_stats=True)\n",
              "    )\n",
              "  )\n",
              "  (layer4): Sequential(\n",
              "    (0): BasicBlock(\n",
              "      (conv1): Conv2d(256, 512, kernel_size=(3, 3), stride=(2, 2), padding=(1, 1), bias=False)\n",
              "      (bn1): BatchNorm2d(512, eps=1e-05, momentum=0.1, affine=True, track_running_stats=True)\n",
              "      (relu): ReLU(inplace=True)\n",
              "      (conv2): Conv2d(512, 512, kernel_size=(3, 3), stride=(1, 1), padding=(1, 1), bias=False)\n",
              "      (bn2): BatchNorm2d(512, eps=1e-05, momentum=0.1, affine=True, track_running_stats=True)\n",
              "      (downsample): Sequential(\n",
              "        (0): Conv2d(256, 512, kernel_size=(1, 1), stride=(2, 2), bias=False)\n",
              "        (1): BatchNorm2d(512, eps=1e-05, momentum=0.1, affine=True, track_running_stats=True)\n",
              "      )\n",
              "    )\n",
              "    (1): BasicBlock(\n",
              "      (conv1): Conv2d(512, 512, kernel_size=(3, 3), stride=(1, 1), padding=(1, 1), bias=False)\n",
              "      (bn1): BatchNorm2d(512, eps=1e-05, momentum=0.1, affine=True, track_running_stats=True)\n",
              "      (relu): ReLU(inplace=True)\n",
              "      (conv2): Conv2d(512, 512, kernel_size=(3, 3), stride=(1, 1), padding=(1, 1), bias=False)\n",
              "      (bn2): BatchNorm2d(512, eps=1e-05, momentum=0.1, affine=True, track_running_stats=True)\n",
              "    )\n",
              "  )\n",
              "  (avgpool): AdaptiveAvgPool2d(output_size=(1, 1))\n",
              "  (fc): Sequential(\n",
              "    (0): Linear(in_features=512, out_features=7, bias=True)\n",
              "    (1): Softmax(dim=1)\n",
              "  )\n",
              ")"
            ]
          },
          "execution_count": 8,
          "metadata": {},
          "output_type": "execute_result"
        }
      ],
      "source": [
        "model = torchvision.models.resnet18(pretrained=True)\n",
        "model.fc = torch.nn.Sequential(torch.nn.Linear(512, 7), torch.nn.Softmax(dim=1))\n",
        "model.to(configs[\"device\"])"
      ]
    },
    {
      "cell_type": "code",
      "execution_count": 9,
      "metadata": {
        "id": "bkgHtVNT53Rl"
      },
      "outputs": [],
      "source": [
        "loss = torch.nn.CrossEntropyLoss(label_smoothing=0.1)\n",
        "optimizer = torch.optim.Adam(model.parameters(), lr=configs[\"lr\"])\n",
        "scheduler = torch.optim.lr_scheduler.ReduceLROnPlateau(optimizer, patience=4, factor=0.5)"
      ]
    },
    {
      "cell_type": "code",
      "execution_count": 10,
      "metadata": {
        "colab": {
          "base_uri": "https://localhost:8080/"
        },
        "id": "JAhBWpFz53Rl",
        "outputId": "7aa2d045-ba07-48f8-f75b-4b6d0c8e6b22"
      },
      "outputs": [
        {
          "name": "stderr",
          "output_type": "stream",
          "text": [
            "100%|██████████| 8/8 [02:41<00:00, 20.16s/it]\n",
            "100%|██████████| 169/169 [00:21<00:00,  7.95it/s]\n"
          ]
        },
        {
          "name": "stdout",
          "output_type": "stream",
          "text": [
            "Epoch: 0, loss: 1.8477304560192944, acc: 0.38461538461538464\n"
          ]
        },
        {
          "name": "stderr",
          "output_type": "stream",
          "text": [
            "100%|██████████| 8/8 [02:25<00:00, 18.18s/it]\n",
            "100%|██████████| 169/169 [00:19<00:00,  8.63it/s]\n"
          ]
        },
        {
          "name": "stdout",
          "output_type": "stream",
          "text": [
            "Epoch: 1, loss: 1.7490766986587343, acc: 0.4556213017751479\n"
          ]
        },
        {
          "name": "stderr",
          "output_type": "stream",
          "text": [
            "100%|██████████| 8/8 [02:30<00:00, 18.75s/it]\n",
            "100%|██████████| 169/169 [00:19<00:00,  8.79it/s]\n"
          ]
        },
        {
          "name": "stdout",
          "output_type": "stream",
          "text": [
            "Epoch: 2, loss: 1.6767400510212374, acc: 0.5739644970414202\n"
          ]
        },
        {
          "name": "stderr",
          "output_type": "stream",
          "text": [
            "100%|██████████| 8/8 [02:29<00:00, 18.68s/it]\n",
            "100%|██████████| 169/169 [00:19<00:00,  8.61it/s]\n"
          ]
        },
        {
          "name": "stdout",
          "output_type": "stream",
          "text": [
            "Epoch: 3, loss: 1.6412371164242896, acc: 0.6035502958579881\n"
          ]
        },
        {
          "name": "stderr",
          "output_type": "stream",
          "text": [
            "100%|██████████| 8/8 [02:26<00:00, 18.27s/it]\n",
            "100%|██████████| 169/169 [00:18<00:00,  9.17it/s]\n"
          ]
        },
        {
          "name": "stdout",
          "output_type": "stream",
          "text": [
            "Epoch: 4, loss: 1.6224241334305713, acc: 0.6094674556213018\n"
          ]
        },
        {
          "name": "stderr",
          "output_type": "stream",
          "text": [
            "100%|██████████| 8/8 [02:23<00:00, 17.96s/it]\n",
            "100%|██████████| 169/169 [00:19<00:00,  8.70it/s]\n"
          ]
        },
        {
          "name": "stdout",
          "output_type": "stream",
          "text": [
            "Epoch: 5, loss: 1.609674721779908, acc: 0.6153846153846154\n"
          ]
        },
        {
          "name": "stderr",
          "output_type": "stream",
          "text": [
            "100%|██████████| 8/8 [02:29<00:00, 18.73s/it]\n",
            "100%|██████████| 169/169 [00:18<00:00,  9.28it/s]\n"
          ]
        },
        {
          "name": "stdout",
          "output_type": "stream",
          "text": [
            "Epoch: 6, loss: 1.5938741215587369, acc: 0.6804733727810651\n"
          ]
        },
        {
          "name": "stderr",
          "output_type": "stream",
          "text": [
            "100%|██████████| 8/8 [02:28<00:00, 18.52s/it]\n",
            "100%|██████████| 169/169 [00:18<00:00,  9.10it/s]\n"
          ]
        },
        {
          "name": "stdout",
          "output_type": "stream",
          "text": [
            "Epoch: 7, loss: 1.5875200562223175, acc: 0.6745562130177515\n"
          ]
        },
        {
          "name": "stderr",
          "output_type": "stream",
          "text": [
            "100%|██████████| 8/8 [02:23<00:00, 17.96s/it]\n",
            "100%|██████████| 169/169 [00:20<00:00,  8.37it/s]\n"
          ]
        },
        {
          "name": "stdout",
          "output_type": "stream",
          "text": [
            "Epoch: 8, loss: 1.5861142281244491, acc: 0.6686390532544378\n"
          ]
        },
        {
          "name": "stderr",
          "output_type": "stream",
          "text": [
            "100%|██████████| 8/8 [02:24<00:00, 18.08s/it]\n",
            "100%|██████████| 169/169 [00:18<00:00,  9.05it/s]\n"
          ]
        },
        {
          "name": "stdout",
          "output_type": "stream",
          "text": [
            "Epoch: 9, loss: 1.5841539816038144, acc: 0.6745562130177515\n"
          ]
        },
        {
          "name": "stderr",
          "output_type": "stream",
          "text": [
            "100%|██████████| 8/8 [02:31<00:00, 18.98s/it]\n",
            "100%|██████████| 169/169 [00:20<00:00,  8.24it/s]\n"
          ]
        },
        {
          "name": "stdout",
          "output_type": "stream",
          "text": [
            "Epoch: 10, loss: 1.5840965050917406, acc: 0.6745562130177515\n"
          ]
        },
        {
          "name": "stderr",
          "output_type": "stream",
          "text": [
            "100%|██████████| 8/8 [02:31<00:00, 18.90s/it]\n",
            "100%|██████████| 169/169 [00:19<00:00,  8.85it/s]\n"
          ]
        },
        {
          "name": "stdout",
          "output_type": "stream",
          "text": [
            "Epoch: 11, loss: 1.5838689627732045, acc: 0.6745562130177515\n"
          ]
        },
        {
          "name": "stderr",
          "output_type": "stream",
          "text": [
            "100%|██████████| 8/8 [02:28<00:00, 18.52s/it]\n",
            "100%|██████████| 169/169 [00:19<00:00,  8.62it/s]\n"
          ]
        },
        {
          "name": "stdout",
          "output_type": "stream",
          "text": [
            "Epoch: 12, loss: 1.5826270185278717, acc: 0.6745562130177515\n"
          ]
        },
        {
          "name": "stderr",
          "output_type": "stream",
          "text": [
            "100%|██████████| 8/8 [02:28<00:00, 18.50s/it]\n",
            "100%|██████████| 169/169 [00:20<00:00,  8.33it/s]\n"
          ]
        },
        {
          "name": "stdout",
          "output_type": "stream",
          "text": [
            "Epoch: 13, loss: 1.5835171507660455, acc: 0.6745562130177515\n"
          ]
        },
        {
          "name": "stderr",
          "output_type": "stream",
          "text": [
            "100%|██████████| 8/8 [02:36<00:00, 19.55s/it]\n",
            "100%|██████████| 169/169 [00:18<00:00,  8.97it/s]\n"
          ]
        },
        {
          "name": "stdout",
          "output_type": "stream",
          "text": [
            "Epoch: 14, loss: 1.5833765091980703, acc: 0.6745562130177515\n"
          ]
        },
        {
          "name": "stderr",
          "output_type": "stream",
          "text": [
            "100%|██████████| 8/8 [02:33<00:00, 19.14s/it]\n",
            "100%|██████████| 169/169 [00:18<00:00,  9.09it/s]\n"
          ]
        },
        {
          "name": "stdout",
          "output_type": "stream",
          "text": [
            "Epoch: 15, loss: 1.5827055499398497, acc: 0.6686390532544378\n"
          ]
        },
        {
          "name": "stderr",
          "output_type": "stream",
          "text": [
            "100%|██████████| 8/8 [02:31<00:00, 18.88s/it]\n",
            "100%|██████████| 169/169 [00:18<00:00,  9.10it/s]\n"
          ]
        },
        {
          "name": "stdout",
          "output_type": "stream",
          "text": [
            "Epoch: 16, loss: 1.5828395581104346, acc: 0.6745562130177515\n"
          ]
        },
        {
          "name": "stderr",
          "output_type": "stream",
          "text": [
            "100%|██████████| 8/8 [02:32<00:00, 19.08s/it]\n",
            "100%|██████████| 169/169 [00:18<00:00,  9.07it/s]\n"
          ]
        },
        {
          "name": "stdout",
          "output_type": "stream",
          "text": [
            "Epoch: 17, loss: 1.5824221019914164, acc: 0.6745562130177515\n"
          ]
        },
        {
          "name": "stderr",
          "output_type": "stream",
          "text": [
            "100%|██████████| 8/8 [02:31<00:00, 18.88s/it]\n",
            "100%|██████████| 169/169 [00:18<00:00,  9.01it/s]\n"
          ]
        },
        {
          "name": "stdout",
          "output_type": "stream",
          "text": [
            "Epoch: 18, loss: 1.5831586616279105, acc: 0.6745562130177515\n"
          ]
        },
        {
          "name": "stderr",
          "output_type": "stream",
          "text": [
            "100%|██████████| 8/8 [02:26<00:00, 18.35s/it]\n",
            "100%|██████████| 169/169 [00:18<00:00,  9.18it/s]\n"
          ]
        },
        {
          "name": "stdout",
          "output_type": "stream",
          "text": [
            "Epoch: 19, loss: 1.5811009752679859, acc: 0.6686390532544378\n"
          ]
        },
        {
          "name": "stderr",
          "output_type": "stream",
          "text": [
            "100%|██████████| 8/8 [02:24<00:00, 18.10s/it]\n",
            "100%|██████████| 169/169 [00:18<00:00,  9.14it/s]\n"
          ]
        },
        {
          "name": "stdout",
          "output_type": "stream",
          "text": [
            "Epoch: 20, loss: 1.5809369729115412, acc: 0.6745562130177515\n"
          ]
        },
        {
          "name": "stderr",
          "output_type": "stream",
          "text": [
            "100%|██████████| 8/8 [02:20<00:00, 17.51s/it]\n",
            "100%|██████████| 169/169 [00:18<00:00,  9.26it/s]\n"
          ]
        },
        {
          "name": "stdout",
          "output_type": "stream",
          "text": [
            "Epoch: 21, loss: 1.5826016608074571, acc: 0.6745562130177515\n"
          ]
        },
        {
          "name": "stderr",
          "output_type": "stream",
          "text": [
            "100%|██████████| 8/8 [02:26<00:00, 18.29s/it]\n",
            "100%|██████████| 169/169 [00:18<00:00,  9.27it/s]\n"
          ]
        },
        {
          "name": "stdout",
          "output_type": "stream",
          "text": [
            "Epoch: 22, loss: 1.5823662824179294, acc: 0.6686390532544378\n"
          ]
        },
        {
          "name": "stderr",
          "output_type": "stream",
          "text": [
            "100%|██████████| 8/8 [02:22<00:00, 17.82s/it]\n",
            "100%|██████████| 169/169 [00:20<00:00,  8.37it/s]\n"
          ]
        },
        {
          "name": "stdout",
          "output_type": "stream",
          "text": [
            "Epoch: 23, loss: 1.5843477347898764, acc: 0.6745562130177515\n"
          ]
        },
        {
          "name": "stderr",
          "output_type": "stream",
          "text": [
            "100%|██████████| 8/8 [02:28<00:00, 18.56s/it]\n",
            "100%|██████████| 169/169 [00:19<00:00,  8.56it/s]\n"
          ]
        },
        {
          "name": "stdout",
          "output_type": "stream",
          "text": [
            "Epoch: 24, loss: 1.583178366429707, acc: 0.6745562130177515\n"
          ]
        },
        {
          "name": "stderr",
          "output_type": "stream",
          "text": [
            "100%|██████████| 8/8 [02:23<00:00, 17.91s/it]\n",
            "100%|██████████| 169/169 [00:18<00:00,  9.21it/s]\n"
          ]
        },
        {
          "name": "stdout",
          "output_type": "stream",
          "text": [
            "Epoch: 25, loss: 1.582446090568452, acc: 0.6745562130177515\n"
          ]
        },
        {
          "name": "stderr",
          "output_type": "stream",
          "text": [
            "100%|██████████| 8/8 [02:27<00:00, 18.46s/it]\n",
            "100%|██████████| 169/169 [00:19<00:00,  8.57it/s]\n"
          ]
        },
        {
          "name": "stdout",
          "output_type": "stream",
          "text": [
            "Epoch: 26, loss: 1.58232483920261, acc: 0.6745562130177515\n"
          ]
        },
        {
          "name": "stderr",
          "output_type": "stream",
          "text": [
            "100%|██████████| 8/8 [02:27<00:00, 18.40s/it]\n",
            "100%|██████████| 169/169 [00:18<00:00,  9.26it/s]\n"
          ]
        },
        {
          "name": "stdout",
          "output_type": "stream",
          "text": [
            "Epoch: 27, loss: 1.5851143365780982, acc: 0.6745562130177515\n"
          ]
        },
        {
          "name": "stderr",
          "output_type": "stream",
          "text": [
            "100%|██████████| 8/8 [02:23<00:00, 17.98s/it]\n",
            "100%|██████████| 169/169 [00:19<00:00,  8.68it/s]\n"
          ]
        },
        {
          "name": "stdout",
          "output_type": "stream",
          "text": [
            "Epoch: 28, loss: 1.5845604380206948, acc: 0.6745562130177515\n"
          ]
        },
        {
          "name": "stderr",
          "output_type": "stream",
          "text": [
            "100%|██████████| 8/8 [02:27<00:00, 18.39s/it]\n",
            "100%|██████████| 169/169 [00:19<00:00,  8.59it/s]\n"
          ]
        },
        {
          "name": "stdout",
          "output_type": "stream",
          "text": [
            "Epoch: 29, loss: 1.5831904439531135, acc: 0.6745562130177515\n"
          ]
        }
      ],
      "source": [
        "best_acc = 0.5\n",
        "for epoch in range(configs[\"epochs\"]):\n",
        "    model.train()\n",
        "    for image, label in tqdm(train_dataloder):\n",
        "        image = image.to(configs[\"device\"])\n",
        "        label = label.to(configs[\"device\"])\n",
        "        optimizer.zero_grad()\n",
        "        output = model(image)\n",
        "        loss_value = loss(output, label)\n",
        "        loss_value.backward()\n",
        "        optimizer.step()\n",
        "        scheduler.step(loss_value)\n",
        "    model.eval()\n",
        "    with torch.no_grad():\n",
        "\n",
        "        total_loss = 0\n",
        "        predicts = []\n",
        "        real_labels = []\n",
        "        for image, label in tqdm(valid_dataloder):\n",
        "            image = image.to(configs[\"device\"])\n",
        "            label = label.to(configs[\"device\"])\n",
        "            output = model(image)\n",
        "            loss_value = loss(output, label)\n",
        "            total_loss += loss_value.item()\n",
        "            predicts.append(output.argmax(1).cpu().numpy())\n",
        "            real_labels.append(label.argmax(1).cpu().numpy())\n",
        "        print(f\"Epoch: {epoch}, loss: {total_loss/len(valid_dataloder)}, acc: {np.sum(np.array(predicts) == np.array(real_labels))/len(valid_dataloder)}\")\n",
        "\n",
        "        if np.sum(np.array(predicts) == np.array(real_labels))/len(valid_dataloder) > best_acc:\n",
        "            best_acc = np.sum(np.array(predicts) == np.array(real_labels))/len(valid_dataloder)\n",
        "            torch.save(model.state_dict(), 'best_model.pt')"
      ]
    }
  ],
  "metadata": {
    "colab": {
      "provenance": []
    },
    "kernelspec": {
      "display_name": "Python 3",
      "language": "python",
      "name": "python3"
    },
    "language_info": {
      "codemirror_mode": {
        "name": "ipython",
        "version": 3
      },
      "file_extension": ".py",
      "mimetype": "text/x-python",
      "name": "python",
      "nbconvert_exporter": "python",
      "pygments_lexer": "ipython3",
      "version": "3.10.0"
    }
  },
  "nbformat": 4,
  "nbformat_minor": 0
}
